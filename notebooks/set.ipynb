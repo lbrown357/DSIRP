{
 "cells": [
  {
   "cell_type": "markdown",
   "id": "c905f415",
   "metadata": {},
   "source": [
    "# Sets"
   ]
  },
  {
   "cell_type": "markdown",
   "id": "42302f03",
   "metadata": {},
   "source": [
    "[Click here to run this chapter on Colab](https://colab.research.google.com/github/AllenDowney/DSIRP/blob/main/notebooks/set.ipynb)"
   ]
  },
  {
   "cell_type": "markdown",
   "id": "eca6f225",
   "metadata": {},
   "source": [
    "## Set operators and methods\n",
    "\n",
    "The following example is based on Luciano Ramalho's talk, [Set Practice: Learning from Python's set type](https://www.youtube.com/watch?v=tGAngdU_8D8)."
   ]
  },
  {
   "cell_type": "code",
   "execution_count": 1,
   "id": "3bdc7cb9",
   "metadata": {},
   "outputs": [],
   "source": [
    "def fibonacci(stop):\n",
    "    a, b = 0, 1\n",
    "    while a < stop:\n",
    "        yield a\n",
    "        a, b = b, a + b"
   ]
  },
  {
   "cell_type": "code",
   "execution_count": 2,
   "id": "a920606a",
   "metadata": {},
   "outputs": [
    {
     "data": {
      "text/plain": [
       "{0, 1, 2, 3, 5, 8}"
      ]
     },
     "execution_count": 2,
     "metadata": {},
     "output_type": "execute_result"
    }
   ],
   "source": [
    "f = {n for n in fibonacci(10)}\n",
    "f"
   ]
  },
  {
   "cell_type": "code",
   "execution_count": 3,
   "id": "ed70c495",
   "metadata": {},
   "outputs": [],
   "source": [
    "def primes(stop):\n",
    "    m = {}\n",
    "    q = 2\n",
    "    while q < stop:\n",
    "        if q not in m:\n",
    "            yield q \n",
    "            m[q*q] = [q]\n",
    "        else:\n",
    "            for p in m[q]:\n",
    "                m.setdefault(p+q, []).append(p)\n",
    "            del m[q]\n",
    "        q += 1"
   ]
  },
  {
   "cell_type": "code",
   "execution_count": 4,
   "id": "a19659df",
   "metadata": {},
   "outputs": [
    {
     "data": {
      "text/plain": [
       "{2, 3, 5, 7}"
      ]
     },
     "execution_count": 4,
     "metadata": {},
     "output_type": "execute_result"
    }
   ],
   "source": [
    "p = {n for n in primes(10)}\n",
    "p"
   ]
  },
  {
   "cell_type": "markdown",
   "id": "a7b8f36b",
   "metadata": {},
   "source": [
    "Checking membership is constant time."
   ]
  },
  {
   "cell_type": "code",
   "execution_count": 5,
   "id": "5f32fae1",
   "metadata": {
    "tags": []
   },
   "outputs": [
    {
     "data": {
      "text/plain": [
       "True"
      ]
     },
     "execution_count": 5,
     "metadata": {},
     "output_type": "execute_result"
    }
   ],
   "source": [
    "8 in f"
   ]
  },
  {
   "cell_type": "code",
   "execution_count": 6,
   "id": "2b7ee8a8",
   "metadata": {
    "tags": []
   },
   "outputs": [
    {
     "data": {
      "text/plain": [
       "False"
      ]
     },
     "execution_count": 6,
     "metadata": {},
     "output_type": "execute_result"
    }
   ],
   "source": [
    "8 in p"
   ]
  },
  {
   "cell_type": "markdown",
   "id": "922ab0f2",
   "metadata": {},
   "source": [
    "Intersection is like AND: it returns elements in f AND in p."
   ]
  },
  {
   "cell_type": "code",
   "execution_count": 7,
   "id": "a1df245c",
   "metadata": {
    "tags": []
   },
   "outputs": [
    {
     "data": {
      "text/plain": [
       "{2, 3, 5}"
      ]
     },
     "execution_count": 7,
     "metadata": {},
     "output_type": "execute_result"
    }
   ],
   "source": [
    "f & p"
   ]
  },
  {
   "cell_type": "markdown",
   "id": "8422b7d2",
   "metadata": {},
   "source": [
    "Union is like OR: it returns elements in f OR in p."
   ]
  },
  {
   "cell_type": "code",
   "execution_count": 8,
   "id": "4f06006b",
   "metadata": {
    "tags": []
   },
   "outputs": [
    {
     "data": {
      "text/plain": [
       "{0, 1, 2, 3, 5, 7, 8}"
      ]
     },
     "execution_count": 8,
     "metadata": {},
     "output_type": "execute_result"
    }
   ],
   "source": [
    "f | p"
   ]
  },
  {
   "cell_type": "markdown",
   "id": "1570034f",
   "metadata": {},
   "source": [
    "Symmetric difference is like XOR: elements from `f` OR `p` but not both."
   ]
  },
  {
   "cell_type": "code",
   "execution_count": 9,
   "id": "adf1edc2",
   "metadata": {
    "tags": []
   },
   "outputs": [
    {
     "data": {
      "text/plain": [
       "{0, 1, 7, 8}"
      ]
     },
     "execution_count": 9,
     "metadata": {},
     "output_type": "execute_result"
    }
   ],
   "source": [
    "f ^ p"
   ]
  },
  {
   "cell_type": "markdown",
   "id": "3ef0fcb0",
   "metadata": {},
   "source": [
    "Here are the Fibonacci numbers that are not prime."
   ]
  },
  {
   "cell_type": "code",
   "execution_count": 10,
   "id": "dd36b7d7",
   "metadata": {
    "tags": []
   },
   "outputs": [
    {
     "data": {
      "text/plain": [
       "{0, 1, 8}"
      ]
     },
     "execution_count": 10,
     "metadata": {},
     "output_type": "execute_result"
    }
   ],
   "source": [
    "f - p"
   ]
  },
  {
   "cell_type": "markdown",
   "id": "2ff76ad6",
   "metadata": {},
   "source": [
    "And the primes that are not Fibonacci numbers."
   ]
  },
  {
   "cell_type": "code",
   "execution_count": 11,
   "id": "022aebe5",
   "metadata": {
    "tags": []
   },
   "outputs": [
    {
     "data": {
      "text/plain": [
       "{7}"
      ]
     },
     "execution_count": 11,
     "metadata": {},
     "output_type": "execute_result"
    }
   ],
   "source": [
    "p - f"
   ]
  },
  {
   "cell_type": "markdown",
   "id": "5526ba75",
   "metadata": {},
   "source": [
    "The comparison operators check for subset and superset relationships.\n",
    "\n",
    "The Fibonacci numbers are not a superset of the primes."
   ]
  },
  {
   "cell_type": "code",
   "execution_count": 12,
   "id": "d3440917",
   "metadata": {
    "tags": []
   },
   "outputs": [
    {
     "data": {
      "text/plain": [
       "False"
      ]
     },
     "execution_count": 12,
     "metadata": {},
     "output_type": "execute_result"
    }
   ],
   "source": [
    "f >= p"
   ]
  },
  {
   "cell_type": "markdown",
   "id": "35721968",
   "metadata": {},
   "source": [
    "And the primes are not a superset of the Fibonacci numbers."
   ]
  },
  {
   "cell_type": "code",
   "execution_count": 13,
   "id": "a3bc8632",
   "metadata": {
    "tags": []
   },
   "outputs": [
    {
     "data": {
      "text/plain": [
       "False"
      ]
     },
     "execution_count": 13,
     "metadata": {},
     "output_type": "execute_result"
    }
   ],
   "source": [
    "p >= f"
   ]
  },
  {
   "cell_type": "markdown",
   "id": "8ccf5d7b",
   "metadata": {},
   "source": [
    "In that sense, sets are not like numbers: they are only [partially ordered](https://en.wikipedia.org/wiki/Partially_ordered_set).\n",
    "\n",
    "`f` is a superset of `{1, 2, 3}`"
   ]
  },
  {
   "cell_type": "code",
   "execution_count": 14,
   "id": "434dace6",
   "metadata": {
    "tags": []
   },
   "outputs": [
    {
     "data": {
      "text/plain": [
       "True"
      ]
     },
     "execution_count": 14,
     "metadata": {},
     "output_type": "execute_result"
    }
   ],
   "source": [
    "f >= {1, 2, 3}"
   ]
  },
  {
   "cell_type": "code",
   "execution_count": 15,
   "id": "01341068",
   "metadata": {
    "tags": []
   },
   "outputs": [
    {
     "data": {
      "text/plain": [
       "False"
      ]
     },
     "execution_count": 15,
     "metadata": {},
     "output_type": "execute_result"
    }
   ],
   "source": [
    "p >= {1, 2, 3}"
   ]
  },
  {
   "cell_type": "markdown",
   "id": "0bf147a5",
   "metadata": {},
   "source": [
    "Sets provide methods as well as operators. Why?\n",
    "\n",
    "For one thing, the argument you pass to a method can be any iterable, not just a set."
   ]
  },
  {
   "cell_type": "code",
   "execution_count": 16,
   "id": "f175f4a8",
   "metadata": {
    "tags": []
   },
   "outputs": [
    {
     "name": "stdout",
     "output_type": "stream",
     "text": [
      "'>=' not supported between instances of 'set' and 'list'\n"
     ]
    }
   ],
   "source": [
    "try:\n",
    "    f >= [1, 2, 3]\n",
    "except TypeError as e:\n",
    "    print(e)"
   ]
  },
  {
   "cell_type": "code",
   "execution_count": 17,
   "id": "b724811d",
   "metadata": {
    "tags": []
   },
   "outputs": [
    {
     "data": {
      "text/plain": [
       "True"
      ]
     },
     "execution_count": 17,
     "metadata": {},
     "output_type": "execute_result"
    }
   ],
   "source": [
    "f.issuperset([1,2,3])"
   ]
  },
  {
   "cell_type": "markdown",
   "id": "d1951fd6",
   "metadata": {},
   "source": [
    "Methods also accept more than one argument:"
   ]
  },
  {
   "cell_type": "code",
   "execution_count": 18,
   "id": "eae2b543",
   "metadata": {},
   "outputs": [
    {
     "data": {
      "text/plain": [
       "{0, 1, 2, 3, 4, 5, 6, 7, 8}"
      ]
     },
     "execution_count": 18,
     "metadata": {},
     "output_type": "execute_result"
    }
   ],
   "source": [
    "f.union([1,2,3], (3,4,5), {5,6,7}, {7:'a', 8:'b'})"
   ]
  },
  {
   "cell_type": "markdown",
   "id": "44245e99",
   "metadata": {},
   "source": [
    "If you don't have a set to start with, you can use an empty set."
   ]
  },
  {
   "cell_type": "code",
   "execution_count": 19,
   "id": "09f015ff",
   "metadata": {},
   "outputs": [
    {
     "data": {
      "text/plain": [
       "{1, 2, 3, 4, 5, 6, 7, 8}"
      ]
     },
     "execution_count": 19,
     "metadata": {},
     "output_type": "execute_result"
    }
   ],
   "source": [
    "set().union([1,2,3], (3,4,5), {5,6,7}, {7:'a', 8:'b'})"
   ]
  },
  {
   "cell_type": "markdown",
   "id": "34922ec3",
   "metadata": {},
   "source": [
    "One small syntax nuisance: `{1, 2, 3}` is a set, but `{}` is an empty dictionary."
   ]
  },
  {
   "cell_type": "markdown",
   "id": "1cb0143e",
   "metadata": {},
   "source": [
    "## Spelling Bee\n",
    "\n",
    "[The New York Times Spelling Bee](https://www.nytimes.com/puzzles/spelling-bee) is a daily puzzle where the goal is to spell as many words as possible using only the given set of seven letters. \n",
    "For example, in a recent Spelling Bee, the available letters were `dehiklo`,\n",
    "so you could spell \"like\" and \"hold\".\n",
    "\n",
    "You can use each of the letters more than once, so \"hook\" and \"deed\" would be allowed, too.\n",
    "\n",
    "To make it a little more interesting, one of the letters is special and must be included in every word.\n",
    "In this example, the special letter is `o`, so \"hood\" would be allowed, but not \"like\".\n",
    "\n",
    "Each word you find scores points depending on it's length, which must be at least four letters.\n",
    "A word that uses all of the letters is called a \"pangram\" and scores extra points.\n",
    "\n",
    "We'll use this puzzle to explore the use of Python sets."
   ]
  },
  {
   "cell_type": "markdown",
   "id": "6e3bd559",
   "metadata": {},
   "source": [
    "Suppose we're given a word and we would like to know whether it can be spelled using only a given set of letters.\n",
    "The following function solves this problem using string operations."
   ]
  },
  {
   "cell_type": "code",
   "execution_count": 20,
   "id": "61880af0",
   "metadata": {},
   "outputs": [],
   "source": [
    "def uses_only(word, letters):\n",
    "    for letter in word:\n",
    "        if letter not in letters:\n",
    "            return False\n",
    "    return True"
   ]
  },
  {
   "cell_type": "markdown",
   "id": "b691ac21",
   "metadata": {},
   "source": [
    "If we find any letters in `word` that are not in the list of letters, we can return `False` immediately.\n",
    "If we get through the word without finding any unavailable letters, we can return `True`.\n",
    "\n",
    "Let's try it out with some examples. In a recent Spelling Bee, the available letters were `dehiklo`.\n",
    "Let's see what we can spell with them."
   ]
  },
  {
   "cell_type": "code",
   "execution_count": 21,
   "id": "e91c8ab5",
   "metadata": {},
   "outputs": [
    {
     "data": {
      "text/plain": [
       "True"
      ]
     },
     "execution_count": 21,
     "metadata": {},
     "output_type": "execute_result"
    }
   ],
   "source": [
    "letters = \"dehiklo\"\n",
    "uses_only('lode', letters)"
   ]
  },
  {
   "cell_type": "code",
   "execution_count": 22,
   "id": "2043e70a",
   "metadata": {},
   "outputs": [
    {
     "data": {
      "text/plain": [
       "False"
      ]
     },
     "execution_count": 22,
     "metadata": {},
     "output_type": "execute_result"
    }
   ],
   "source": [
    "uses_only('implode', letters)"
   ]
  },
  {
   "cell_type": "markdown",
   "id": "2caed2b8",
   "metadata": {},
   "source": [
    "**Exercise:** It is possible to implement `uses_only` more concisely using set operations rather than list operations. [Read the documentation of the `set` class](https://docs.python.org/3/tutorial/datastructures.html#sets) and rewrite `uses_only` using sets."
   ]
  },
  {
   "cell_type": "code",
   "execution_count": 31,
   "id": "c7826a80",
   "metadata": {},
   "outputs": [
    {
     "data": {
      "text/plain": [
       "True"
      ]
     },
     "execution_count": 31,
     "metadata": {},
     "output_type": "execute_result"
    }
   ],
   "source": [
    "def uses_only(word, letters):\n",
    "    return set(word)&set(letters)==set(word)\n",
    "\n",
    "uses_only('racecar','acre')"
   ]
  },
  {
   "cell_type": "code",
   "execution_count": 32,
   "id": "62d631b4",
   "metadata": {},
   "outputs": [
    {
     "data": {
      "text/plain": [
       "True"
      ]
     },
     "execution_count": 32,
     "metadata": {},
     "output_type": "execute_result"
    }
   ],
   "source": [
    "uses_only('lode', letters)"
   ]
  },
  {
   "cell_type": "code",
   "execution_count": 33,
   "id": "c1a84f7d",
   "metadata": {},
   "outputs": [
    {
     "data": {
      "text/plain": [
       "False"
      ]
     },
     "execution_count": 33,
     "metadata": {},
     "output_type": "execute_result"
    }
   ],
   "source": [
    "uses_only('implode', letters)"
   ]
  },
  {
   "cell_type": "markdown",
   "id": "952485c9",
   "metadata": {},
   "source": [
    "## Word list\n",
    "\n",
    "The following function downloads a list of about 100,000 words in American English."
   ]
  },
  {
   "cell_type": "code",
   "execution_count": 34,
   "id": "14479b61",
   "metadata": {},
   "outputs": [
    {
     "ename": "URLError",
     "evalue": "<urlopen error [SSL: CERTIFICATE_VERIFY_FAILED] certificate verify failed: unable to get local issuer certificate (_ssl.c:997)>",
     "output_type": "error",
     "traceback": [
      "\u001b[0;31m---------------------------------------------------------------------------\u001b[0m",
      "\u001b[0;31mSSLCertVerificationError\u001b[0m                  Traceback (most recent call last)",
      "File \u001b[0;32m/Library/Frameworks/Python.framework/Versions/3.10/lib/python3.10/urllib/request.py:1348\u001b[0m, in \u001b[0;36mAbstractHTTPHandler.do_open\u001b[0;34m(self, http_class, req, **http_conn_args)\u001b[0m\n\u001b[1;32m   1347\u001b[0m \u001b[39mtry\u001b[39;00m:\n\u001b[0;32m-> 1348\u001b[0m     h\u001b[39m.\u001b[39;49mrequest(req\u001b[39m.\u001b[39;49mget_method(), req\u001b[39m.\u001b[39;49mselector, req\u001b[39m.\u001b[39;49mdata, headers,\n\u001b[1;32m   1349\u001b[0m               encode_chunked\u001b[39m=\u001b[39;49mreq\u001b[39m.\u001b[39;49mhas_header(\u001b[39m'\u001b[39;49m\u001b[39mTransfer-encoding\u001b[39;49m\u001b[39m'\u001b[39;49m))\n\u001b[1;32m   1350\u001b[0m \u001b[39mexcept\u001b[39;00m \u001b[39mOSError\u001b[39;00m \u001b[39mas\u001b[39;00m err: \u001b[39m# timeout error\u001b[39;00m\n",
      "File \u001b[0;32m/Library/Frameworks/Python.framework/Versions/3.10/lib/python3.10/http/client.py:1282\u001b[0m, in \u001b[0;36mHTTPConnection.request\u001b[0;34m(self, method, url, body, headers, encode_chunked)\u001b[0m\n\u001b[1;32m   1281\u001b[0m \u001b[39m\"\"\"Send a complete request to the server.\"\"\"\u001b[39;00m\n\u001b[0;32m-> 1282\u001b[0m \u001b[39mself\u001b[39;49m\u001b[39m.\u001b[39;49m_send_request(method, url, body, headers, encode_chunked)\n",
      "File \u001b[0;32m/Library/Frameworks/Python.framework/Versions/3.10/lib/python3.10/http/client.py:1328\u001b[0m, in \u001b[0;36mHTTPConnection._send_request\u001b[0;34m(self, method, url, body, headers, encode_chunked)\u001b[0m\n\u001b[1;32m   1327\u001b[0m     body \u001b[39m=\u001b[39m _encode(body, \u001b[39m'\u001b[39m\u001b[39mbody\u001b[39m\u001b[39m'\u001b[39m)\n\u001b[0;32m-> 1328\u001b[0m \u001b[39mself\u001b[39;49m\u001b[39m.\u001b[39;49mendheaders(body, encode_chunked\u001b[39m=\u001b[39;49mencode_chunked)\n",
      "File \u001b[0;32m/Library/Frameworks/Python.framework/Versions/3.10/lib/python3.10/http/client.py:1277\u001b[0m, in \u001b[0;36mHTTPConnection.endheaders\u001b[0;34m(self, message_body, encode_chunked)\u001b[0m\n\u001b[1;32m   1276\u001b[0m     \u001b[39mraise\u001b[39;00m CannotSendHeader()\n\u001b[0;32m-> 1277\u001b[0m \u001b[39mself\u001b[39;49m\u001b[39m.\u001b[39;49m_send_output(message_body, encode_chunked\u001b[39m=\u001b[39;49mencode_chunked)\n",
      "File \u001b[0;32m/Library/Frameworks/Python.framework/Versions/3.10/lib/python3.10/http/client.py:1037\u001b[0m, in \u001b[0;36mHTTPConnection._send_output\u001b[0;34m(self, message_body, encode_chunked)\u001b[0m\n\u001b[1;32m   1036\u001b[0m \u001b[39mdel\u001b[39;00m \u001b[39mself\u001b[39m\u001b[39m.\u001b[39m_buffer[:]\n\u001b[0;32m-> 1037\u001b[0m \u001b[39mself\u001b[39;49m\u001b[39m.\u001b[39;49msend(msg)\n\u001b[1;32m   1039\u001b[0m \u001b[39mif\u001b[39;00m message_body \u001b[39mis\u001b[39;00m \u001b[39mnot\u001b[39;00m \u001b[39mNone\u001b[39;00m:\n\u001b[1;32m   1040\u001b[0m \n\u001b[1;32m   1041\u001b[0m     \u001b[39m# create a consistent interface to message_body\u001b[39;00m\n",
      "File \u001b[0;32m/Library/Frameworks/Python.framework/Versions/3.10/lib/python3.10/http/client.py:975\u001b[0m, in \u001b[0;36mHTTPConnection.send\u001b[0;34m(self, data)\u001b[0m\n\u001b[1;32m    974\u001b[0m \u001b[39mif\u001b[39;00m \u001b[39mself\u001b[39m\u001b[39m.\u001b[39mauto_open:\n\u001b[0;32m--> 975\u001b[0m     \u001b[39mself\u001b[39;49m\u001b[39m.\u001b[39;49mconnect()\n\u001b[1;32m    976\u001b[0m \u001b[39melse\u001b[39;00m:\n",
      "File \u001b[0;32m/Library/Frameworks/Python.framework/Versions/3.10/lib/python3.10/http/client.py:1454\u001b[0m, in \u001b[0;36mHTTPSConnection.connect\u001b[0;34m(self)\u001b[0m\n\u001b[1;32m   1452\u001b[0m     server_hostname \u001b[39m=\u001b[39m \u001b[39mself\u001b[39m\u001b[39m.\u001b[39mhost\n\u001b[0;32m-> 1454\u001b[0m \u001b[39mself\u001b[39m\u001b[39m.\u001b[39msock \u001b[39m=\u001b[39m \u001b[39mself\u001b[39;49m\u001b[39m.\u001b[39;49m_context\u001b[39m.\u001b[39;49mwrap_socket(\u001b[39mself\u001b[39;49m\u001b[39m.\u001b[39;49msock,\n\u001b[1;32m   1455\u001b[0m                                       server_hostname\u001b[39m=\u001b[39;49mserver_hostname)\n",
      "File \u001b[0;32m/Library/Frameworks/Python.framework/Versions/3.10/lib/python3.10/ssl.py:513\u001b[0m, in \u001b[0;36mSSLContext.wrap_socket\u001b[0;34m(self, sock, server_side, do_handshake_on_connect, suppress_ragged_eofs, server_hostname, session)\u001b[0m\n\u001b[1;32m    507\u001b[0m \u001b[39mdef\u001b[39;00m \u001b[39mwrap_socket\u001b[39m(\u001b[39mself\u001b[39m, sock, server_side\u001b[39m=\u001b[39m\u001b[39mFalse\u001b[39;00m,\n\u001b[1;32m    508\u001b[0m                 do_handshake_on_connect\u001b[39m=\u001b[39m\u001b[39mTrue\u001b[39;00m,\n\u001b[1;32m    509\u001b[0m                 suppress_ragged_eofs\u001b[39m=\u001b[39m\u001b[39mTrue\u001b[39;00m,\n\u001b[1;32m    510\u001b[0m                 server_hostname\u001b[39m=\u001b[39m\u001b[39mNone\u001b[39;00m, session\u001b[39m=\u001b[39m\u001b[39mNone\u001b[39;00m):\n\u001b[1;32m    511\u001b[0m     \u001b[39m# SSLSocket class handles server_hostname encoding before it calls\u001b[39;00m\n\u001b[1;32m    512\u001b[0m     \u001b[39m# ctx._wrap_socket()\u001b[39;00m\n\u001b[0;32m--> 513\u001b[0m     \u001b[39mreturn\u001b[39;00m \u001b[39mself\u001b[39;49m\u001b[39m.\u001b[39;49msslsocket_class\u001b[39m.\u001b[39;49m_create(\n\u001b[1;32m    514\u001b[0m         sock\u001b[39m=\u001b[39;49msock,\n\u001b[1;32m    515\u001b[0m         server_side\u001b[39m=\u001b[39;49mserver_side,\n\u001b[1;32m    516\u001b[0m         do_handshake_on_connect\u001b[39m=\u001b[39;49mdo_handshake_on_connect,\n\u001b[1;32m    517\u001b[0m         suppress_ragged_eofs\u001b[39m=\u001b[39;49msuppress_ragged_eofs,\n\u001b[1;32m    518\u001b[0m         server_hostname\u001b[39m=\u001b[39;49mserver_hostname,\n\u001b[1;32m    519\u001b[0m         context\u001b[39m=\u001b[39;49m\u001b[39mself\u001b[39;49m,\n\u001b[1;32m    520\u001b[0m         session\u001b[39m=\u001b[39;49msession\n\u001b[1;32m    521\u001b[0m     )\n",
      "File \u001b[0;32m/Library/Frameworks/Python.framework/Versions/3.10/lib/python3.10/ssl.py:1071\u001b[0m, in \u001b[0;36mSSLSocket._create\u001b[0;34m(cls, sock, server_side, do_handshake_on_connect, suppress_ragged_eofs, server_hostname, context, session)\u001b[0m\n\u001b[1;32m   1070\u001b[0m             \u001b[39mraise\u001b[39;00m \u001b[39mValueError\u001b[39;00m(\u001b[39m\"\u001b[39m\u001b[39mdo_handshake_on_connect should not be specified for non-blocking sockets\u001b[39m\u001b[39m\"\u001b[39m)\n\u001b[0;32m-> 1071\u001b[0m         \u001b[39mself\u001b[39;49m\u001b[39m.\u001b[39;49mdo_handshake()\n\u001b[1;32m   1072\u001b[0m \u001b[39mexcept\u001b[39;00m (\u001b[39mOSError\u001b[39;00m, \u001b[39mValueError\u001b[39;00m):\n",
      "File \u001b[0;32m/Library/Frameworks/Python.framework/Versions/3.10/lib/python3.10/ssl.py:1342\u001b[0m, in \u001b[0;36mSSLSocket.do_handshake\u001b[0;34m(self, block)\u001b[0m\n\u001b[1;32m   1341\u001b[0m         \u001b[39mself\u001b[39m\u001b[39m.\u001b[39msettimeout(\u001b[39mNone\u001b[39;00m)\n\u001b[0;32m-> 1342\u001b[0m     \u001b[39mself\u001b[39;49m\u001b[39m.\u001b[39;49m_sslobj\u001b[39m.\u001b[39;49mdo_handshake()\n\u001b[1;32m   1343\u001b[0m \u001b[39mfinally\u001b[39;00m:\n",
      "\u001b[0;31mSSLCertVerificationError\u001b[0m: [SSL: CERTIFICATE_VERIFY_FAILED] certificate verify failed: unable to get local issuer certificate (_ssl.c:997)",
      "\nDuring handling of the above exception, another exception occurred:\n",
      "\u001b[0;31mURLError\u001b[0m                                  Traceback (most recent call last)",
      "Cell \u001b[0;32mIn [34], line 10\u001b[0m\n\u001b[1;32m      7\u001b[0m         local, _ \u001b[39m=\u001b[39m urlretrieve(url, filename)\n\u001b[1;32m      8\u001b[0m         \u001b[39mprint\u001b[39m(\u001b[39m'\u001b[39m\u001b[39mDownloaded \u001b[39m\u001b[39m'\u001b[39m \u001b[39m+\u001b[39m local)\n\u001b[0;32m---> 10\u001b[0m download(\u001b[39m'\u001b[39;49m\u001b[39mhttps://github.com/AllenDowney/DSIRP/raw/main/american-english\u001b[39;49m\u001b[39m'\u001b[39;49m)\n",
      "Cell \u001b[0;32mIn [34], line 7\u001b[0m, in \u001b[0;36mdownload\u001b[0;34m(url)\u001b[0m\n\u001b[1;32m      5\u001b[0m \u001b[39mif\u001b[39;00m \u001b[39mnot\u001b[39;00m exists(filename):\n\u001b[1;32m      6\u001b[0m     \u001b[39mfrom\u001b[39;00m \u001b[39murllib\u001b[39;00m\u001b[39m.\u001b[39;00m\u001b[39mrequest\u001b[39;00m \u001b[39mimport\u001b[39;00m urlretrieve\n\u001b[0;32m----> 7\u001b[0m     local, _ \u001b[39m=\u001b[39m urlretrieve(url, filename)\n\u001b[1;32m      8\u001b[0m     \u001b[39mprint\u001b[39m(\u001b[39m'\u001b[39m\u001b[39mDownloaded \u001b[39m\u001b[39m'\u001b[39m \u001b[39m+\u001b[39m local)\n",
      "File \u001b[0;32m/Library/Frameworks/Python.framework/Versions/3.10/lib/python3.10/urllib/request.py:241\u001b[0m, in \u001b[0;36murlretrieve\u001b[0;34m(url, filename, reporthook, data)\u001b[0m\n\u001b[1;32m    224\u001b[0m \u001b[39m\"\"\"\u001b[39;00m\n\u001b[1;32m    225\u001b[0m \u001b[39mRetrieve a URL into a temporary location on disk.\u001b[39;00m\n\u001b[1;32m    226\u001b[0m \n\u001b[0;32m   (...)\u001b[0m\n\u001b[1;32m    237\u001b[0m \u001b[39mdata file as well as the resulting HTTPMessage object.\u001b[39;00m\n\u001b[1;32m    238\u001b[0m \u001b[39m\"\"\"\u001b[39;00m\n\u001b[1;32m    239\u001b[0m url_type, path \u001b[39m=\u001b[39m _splittype(url)\n\u001b[0;32m--> 241\u001b[0m \u001b[39mwith\u001b[39;00m contextlib\u001b[39m.\u001b[39mclosing(urlopen(url, data)) \u001b[39mas\u001b[39;00m fp:\n\u001b[1;32m    242\u001b[0m     headers \u001b[39m=\u001b[39m fp\u001b[39m.\u001b[39minfo()\n\u001b[1;32m    244\u001b[0m     \u001b[39m# Just return the local path and the \"headers\" for file://\u001b[39;00m\n\u001b[1;32m    245\u001b[0m     \u001b[39m# URLs. No sense in performing a copy unless requested.\u001b[39;00m\n",
      "File \u001b[0;32m/Library/Frameworks/Python.framework/Versions/3.10/lib/python3.10/urllib/request.py:216\u001b[0m, in \u001b[0;36murlopen\u001b[0;34m(url, data, timeout, cafile, capath, cadefault, context)\u001b[0m\n\u001b[1;32m    214\u001b[0m \u001b[39melse\u001b[39;00m:\n\u001b[1;32m    215\u001b[0m     opener \u001b[39m=\u001b[39m _opener\n\u001b[0;32m--> 216\u001b[0m \u001b[39mreturn\u001b[39;00m opener\u001b[39m.\u001b[39;49mopen(url, data, timeout)\n",
      "File \u001b[0;32m/Library/Frameworks/Python.framework/Versions/3.10/lib/python3.10/urllib/request.py:519\u001b[0m, in \u001b[0;36mOpenerDirector.open\u001b[0;34m(self, fullurl, data, timeout)\u001b[0m\n\u001b[1;32m    516\u001b[0m     req \u001b[39m=\u001b[39m meth(req)\n\u001b[1;32m    518\u001b[0m sys\u001b[39m.\u001b[39maudit(\u001b[39m'\u001b[39m\u001b[39murllib.Request\u001b[39m\u001b[39m'\u001b[39m, req\u001b[39m.\u001b[39mfull_url, req\u001b[39m.\u001b[39mdata, req\u001b[39m.\u001b[39mheaders, req\u001b[39m.\u001b[39mget_method())\n\u001b[0;32m--> 519\u001b[0m response \u001b[39m=\u001b[39m \u001b[39mself\u001b[39;49m\u001b[39m.\u001b[39;49m_open(req, data)\n\u001b[1;32m    521\u001b[0m \u001b[39m# post-process response\u001b[39;00m\n\u001b[1;32m    522\u001b[0m meth_name \u001b[39m=\u001b[39m protocol\u001b[39m+\u001b[39m\u001b[39m\"\u001b[39m\u001b[39m_response\u001b[39m\u001b[39m\"\u001b[39m\n",
      "File \u001b[0;32m/Library/Frameworks/Python.framework/Versions/3.10/lib/python3.10/urllib/request.py:536\u001b[0m, in \u001b[0;36mOpenerDirector._open\u001b[0;34m(self, req, data)\u001b[0m\n\u001b[1;32m    533\u001b[0m     \u001b[39mreturn\u001b[39;00m result\n\u001b[1;32m    535\u001b[0m protocol \u001b[39m=\u001b[39m req\u001b[39m.\u001b[39mtype\n\u001b[0;32m--> 536\u001b[0m result \u001b[39m=\u001b[39m \u001b[39mself\u001b[39;49m\u001b[39m.\u001b[39;49m_call_chain(\u001b[39mself\u001b[39;49m\u001b[39m.\u001b[39;49mhandle_open, protocol, protocol \u001b[39m+\u001b[39;49m\n\u001b[1;32m    537\u001b[0m                           \u001b[39m'\u001b[39;49m\u001b[39m_open\u001b[39;49m\u001b[39m'\u001b[39;49m, req)\n\u001b[1;32m    538\u001b[0m \u001b[39mif\u001b[39;00m result:\n\u001b[1;32m    539\u001b[0m     \u001b[39mreturn\u001b[39;00m result\n",
      "File \u001b[0;32m/Library/Frameworks/Python.framework/Versions/3.10/lib/python3.10/urllib/request.py:496\u001b[0m, in \u001b[0;36mOpenerDirector._call_chain\u001b[0;34m(self, chain, kind, meth_name, *args)\u001b[0m\n\u001b[1;32m    494\u001b[0m \u001b[39mfor\u001b[39;00m handler \u001b[39min\u001b[39;00m handlers:\n\u001b[1;32m    495\u001b[0m     func \u001b[39m=\u001b[39m \u001b[39mgetattr\u001b[39m(handler, meth_name)\n\u001b[0;32m--> 496\u001b[0m     result \u001b[39m=\u001b[39m func(\u001b[39m*\u001b[39;49margs)\n\u001b[1;32m    497\u001b[0m     \u001b[39mif\u001b[39;00m result \u001b[39mis\u001b[39;00m \u001b[39mnot\u001b[39;00m \u001b[39mNone\u001b[39;00m:\n\u001b[1;32m    498\u001b[0m         \u001b[39mreturn\u001b[39;00m result\n",
      "File \u001b[0;32m/Library/Frameworks/Python.framework/Versions/3.10/lib/python3.10/urllib/request.py:1391\u001b[0m, in \u001b[0;36mHTTPSHandler.https_open\u001b[0;34m(self, req)\u001b[0m\n\u001b[1;32m   1390\u001b[0m \u001b[39mdef\u001b[39;00m \u001b[39mhttps_open\u001b[39m(\u001b[39mself\u001b[39m, req):\n\u001b[0;32m-> 1391\u001b[0m     \u001b[39mreturn\u001b[39;00m \u001b[39mself\u001b[39;49m\u001b[39m.\u001b[39;49mdo_open(http\u001b[39m.\u001b[39;49mclient\u001b[39m.\u001b[39;49mHTTPSConnection, req,\n\u001b[1;32m   1392\u001b[0m         context\u001b[39m=\u001b[39;49m\u001b[39mself\u001b[39;49m\u001b[39m.\u001b[39;49m_context, check_hostname\u001b[39m=\u001b[39;49m\u001b[39mself\u001b[39;49m\u001b[39m.\u001b[39;49m_check_hostname)\n",
      "File \u001b[0;32m/Library/Frameworks/Python.framework/Versions/3.10/lib/python3.10/urllib/request.py:1351\u001b[0m, in \u001b[0;36mAbstractHTTPHandler.do_open\u001b[0;34m(self, http_class, req, **http_conn_args)\u001b[0m\n\u001b[1;32m   1348\u001b[0m         h\u001b[39m.\u001b[39mrequest(req\u001b[39m.\u001b[39mget_method(), req\u001b[39m.\u001b[39mselector, req\u001b[39m.\u001b[39mdata, headers,\n\u001b[1;32m   1349\u001b[0m                   encode_chunked\u001b[39m=\u001b[39mreq\u001b[39m.\u001b[39mhas_header(\u001b[39m'\u001b[39m\u001b[39mTransfer-encoding\u001b[39m\u001b[39m'\u001b[39m))\n\u001b[1;32m   1350\u001b[0m     \u001b[39mexcept\u001b[39;00m \u001b[39mOSError\u001b[39;00m \u001b[39mas\u001b[39;00m err: \u001b[39m# timeout error\u001b[39;00m\n\u001b[0;32m-> 1351\u001b[0m         \u001b[39mraise\u001b[39;00m URLError(err)\n\u001b[1;32m   1352\u001b[0m     r \u001b[39m=\u001b[39m h\u001b[39m.\u001b[39mgetresponse()\n\u001b[1;32m   1353\u001b[0m \u001b[39mexcept\u001b[39;00m:\n",
      "\u001b[0;31mURLError\u001b[0m: <urlopen error [SSL: CERTIFICATE_VERIFY_FAILED] certificate verify failed: unable to get local issuer certificate (_ssl.c:997)>"
     ]
    }
   ],
   "source": [
    "from os.path import basename, exists\n",
    "\n",
    "def download(url):\n",
    "    filename = basename(url)\n",
    "    if not exists(filename):\n",
    "        from urllib.request import urlretrieve\n",
    "        local, _ = urlretrieve(url, filename)\n",
    "        print('Downloaded ' + local)\n",
    "    \n",
    "download('https://github.com/AllenDowney/DSIRP/raw/main/american-english')"
   ]
  },
  {
   "cell_type": "markdown",
   "id": "8ba2793b",
   "metadata": {},
   "source": [
    "The file contains one word per line, so we can read the file and split it into a list of words like this:"
   ]
  },
  {
   "cell_type": "code",
   "execution_count": 37,
   "id": "6f4c8f7b",
   "metadata": {},
   "outputs": [
    {
     "data": {
      "text/plain": [
       "102401"
      ]
     },
     "execution_count": 37,
     "metadata": {},
     "output_type": "execute_result"
    }
   ],
   "source": [
    "word_list = open('../american-english').read().split()\n",
    "len(word_list)"
   ]
  },
  {
   "cell_type": "markdown",
   "id": "a26292b0",
   "metadata": {},
   "source": [
    "**Exercise:** Write a loop that iterates through this word list and prints only words \n",
    "\n",
    "* With at least four letters,\n",
    "\n",
    "* That can be spelled using only the letters `dehiklo`, and\n",
    "\n",
    "* That include the letter `o`."
   ]
  },
  {
   "cell_type": "code",
   "execution_count": 42,
   "id": "3ace74e4",
   "metadata": {},
   "outputs": [
    {
     "name": "stdout",
     "output_type": "stream",
     "text": [
      "diode\n",
      "dodo\n",
      "dole\n",
      "doled\n",
      "doll\n",
      "dolled\n",
      "doodle\n",
      "doodled\n",
      "hellhole\n",
      "hello\n",
      "hoed\n",
      "hold\n",
      "hole\n",
      "holed\n",
      "hood\n",
      "hooded\n",
      "hoodie\n",
      "hoodoo\n",
      "hoodooed\n",
      "hook\n",
      "hooked\n",
      "idol\n",
      "kiddo\n",
      "kilo\n",
      "kook\n",
      "kookie\n",
      "likelihood\n",
      "lode\n",
      "loll\n",
      "lolled\n",
      "look\n",
      "looked\n",
      "oiled\n",
      "oldie\n",
      "oleo\n"
     ]
    }
   ],
   "source": [
    "for word in word_list:\n",
    "    if ('o' in word) and (len(word)>=4) and (uses_only(word,'dehiklo')):\n",
    "        print(word)"
   ]
  },
  {
   "cell_type": "markdown",
   "id": "39a69dc4",
   "metadata": {},
   "source": [
    "**Exercise:** Now let's check for pangrams. \n",
    "Write a function called `uses_all` that takes two strings and returns `True` if the first string uses all of the letters in the second string.\n",
    "Think about how to express this computation using set operations.\n",
    "\n",
    "Test your function with at least one case that returns `True` and one that returns `False`."
   ]
  },
  {
   "cell_type": "code",
   "execution_count": 29,
   "id": "9c84b036",
   "metadata": {},
   "outputs": [],
   "source": []
  },
  {
   "cell_type": "code",
   "execution_count": 30,
   "id": "78966218",
   "metadata": {},
   "outputs": [],
   "source": []
  },
  {
   "cell_type": "code",
   "execution_count": 31,
   "id": "053cef91",
   "metadata": {},
   "outputs": [],
   "source": []
  },
  {
   "cell_type": "markdown",
   "id": "ac17d8e8",
   "metadata": {},
   "source": [
    "**Exercise:** Modify the previous loop to search the word list for pangrams using `uses_only` and `uses_all`.\n",
    "\n",
    "Or, as a bonus, write a function called `uses_all_and_only` that checks both conditions using a single `set` operation."
   ]
  },
  {
   "cell_type": "code",
   "execution_count": 32,
   "id": "93f8b775",
   "metadata": {},
   "outputs": [],
   "source": []
  },
  {
   "cell_type": "code",
   "execution_count": 33,
   "id": "2e8ae3c2",
   "metadata": {},
   "outputs": [],
   "source": []
  },
  {
   "cell_type": "code",
   "execution_count": 34,
   "id": "91cfac2e",
   "metadata": {},
   "outputs": [],
   "source": []
  },
  {
   "cell_type": "markdown",
   "id": "7d2eba1a",
   "metadata": {},
   "source": [
    "## Leftovers\n",
    "\n",
    "So far we've been writing Boolean functions that test specific conditions, but if they return `False`, they don't explain why.\n",
    "As an alternative to `uses_only`, we could write a function called `bad_letters` that takes a word and a set of letters, and returns a new string that contains the letters in words that are not available.  Let's call it `bad_letters`. "
   ]
  },
  {
   "cell_type": "code",
   "execution_count": 35,
   "id": "a023ed32",
   "metadata": {},
   "outputs": [],
   "source": [
    "def bad_letters(word, letters):\n",
    "    return set(word) - set(letters)"
   ]
  },
  {
   "cell_type": "markdown",
   "id": "4afd6581",
   "metadata": {},
   "source": [
    "Now if we run this function with an illegal word, it will tell us which letters in the word are not available."
   ]
  },
  {
   "cell_type": "code",
   "execution_count": 36,
   "id": "1c78d5c2",
   "metadata": {},
   "outputs": [],
   "source": [
    "bad_letters('oilfield', letters)"
   ]
  },
  {
   "cell_type": "markdown",
   "id": "5e044976",
   "metadata": {},
   "source": [
    "**Exercise:** Write a function called `unused_letters` that takes a word and a set of letters and returns the subset of the letters that are not used in `word`."
   ]
  },
  {
   "cell_type": "code",
   "execution_count": 37,
   "id": "b1854ea4",
   "metadata": {},
   "outputs": [],
   "source": []
  },
  {
   "cell_type": "code",
   "execution_count": 38,
   "id": "0a73331a",
   "metadata": {},
   "outputs": [],
   "source": []
  },
  {
   "cell_type": "markdown",
   "id": "48be61ac",
   "metadata": {},
   "source": [
    "**Exercise:** Write a function called `no_duplicates` that takes a string and returns `True` if each letter appears only once."
   ]
  },
  {
   "cell_type": "code",
   "execution_count": 39,
   "id": "5c8422d4",
   "metadata": {},
   "outputs": [],
   "source": []
  },
  {
   "cell_type": "code",
   "execution_count": 40,
   "id": "7e77124c",
   "metadata": {},
   "outputs": [],
   "source": []
  },
  {
   "cell_type": "code",
   "execution_count": 41,
   "id": "0200d5a4",
   "metadata": {},
   "outputs": [],
   "source": []
  },
  {
   "cell_type": "markdown",
   "id": "d0c54f80",
   "metadata": {},
   "source": [
    "*Data Structures and Information Retrieval in Python*\n",
    "\n",
    "Copyright 2021 Allen Downey\n",
    "\n",
    "License: [Creative Commons Attribution-NonCommercial-ShareAlike 4.0 International](https://creativecommons.org/licenses/by-nc-sa/4.0/)"
   ]
  }
 ],
 "metadata": {
  "celltoolbar": "Tags",
  "kernelspec": {
   "display_name": "Python 3.10.5 64-bit",
   "language": "python",
   "name": "python3"
  },
  "language_info": {
   "codemirror_mode": {
    "name": "ipython",
    "version": 3
   },
   "file_extension": ".py",
   "mimetype": "text/x-python",
   "name": "python",
   "nbconvert_exporter": "python",
   "pygments_lexer": "ipython3",
   "version": "3.10.5"
  },
  "vscode": {
   "interpreter": {
    "hash": "aee8b7b246df8f9039afb4144a1f6fd8d2ca17a180786b69acc140d282b71a49"
   }
  }
 },
 "nbformat": 4,
 "nbformat_minor": 5
}
