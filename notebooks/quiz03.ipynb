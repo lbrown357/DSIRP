{
 "cells": [
  {
   "cell_type": "markdown",
   "metadata": {},
   "source": [
    "# Quiz 3\n",
    "\n",
    "BEFORE YOU START THIS QUIZ:\n",
    "\n",
    "1. Click on \"Copy to Drive\" to make a copy of the quiz,\n",
    "\n",
    "2. Click on \"Share\",\n",
    "    \n",
    "3. Click on \"Change\" and select \"Anyone with this link can edit\"\n",
    "    \n",
    "4. Click \"Copy link\" and\n",
    "\n",
    "5. Paste the link into [this Canvas assignment](https://canvas.olin.edu/courses/313/assignments/4985). \n",
    "\n",
    "This quiz is open notes, open internet. The only thing you can't do is ask for help.\n",
    "\n",
    "Copyright 2021 Allen Downey, [MIT License](http://opensource.org/licenses/MIT)"
   ]
  },
  {
   "cell_type": "code",
   "execution_count": 1,
   "metadata": {},
   "outputs": [
    {
     "ename": "URLError",
     "evalue": "<urlopen error [SSL: CERTIFICATE_VERIFY_FAILED] certificate verify failed: unable to get local issuer certificate (_ssl.c:997)>",
     "output_type": "error",
     "traceback": [
      "\u001b[0;31m---------------------------------------------------------------------------\u001b[0m",
      "\u001b[0;31mSSLCertVerificationError\u001b[0m                  Traceback (most recent call last)",
      "File \u001b[0;32m/Library/Frameworks/Python.framework/Versions/3.10/lib/python3.10/urllib/request.py:1348\u001b[0m, in \u001b[0;36mAbstractHTTPHandler.do_open\u001b[0;34m(self, http_class, req, **http_conn_args)\u001b[0m\n\u001b[1;32m   1347\u001b[0m \u001b[39mtry\u001b[39;00m:\n\u001b[0;32m-> 1348\u001b[0m     h\u001b[39m.\u001b[39;49mrequest(req\u001b[39m.\u001b[39;49mget_method(), req\u001b[39m.\u001b[39;49mselector, req\u001b[39m.\u001b[39;49mdata, headers,\n\u001b[1;32m   1349\u001b[0m               encode_chunked\u001b[39m=\u001b[39;49mreq\u001b[39m.\u001b[39;49mhas_header(\u001b[39m'\u001b[39;49m\u001b[39mTransfer-encoding\u001b[39;49m\u001b[39m'\u001b[39;49m))\n\u001b[1;32m   1350\u001b[0m \u001b[39mexcept\u001b[39;00m \u001b[39mOSError\u001b[39;00m \u001b[39mas\u001b[39;00m err: \u001b[39m# timeout error\u001b[39;00m\n",
      "File \u001b[0;32m/Library/Frameworks/Python.framework/Versions/3.10/lib/python3.10/http/client.py:1282\u001b[0m, in \u001b[0;36mHTTPConnection.request\u001b[0;34m(self, method, url, body, headers, encode_chunked)\u001b[0m\n\u001b[1;32m   1281\u001b[0m \u001b[39m\"\"\"Send a complete request to the server.\"\"\"\u001b[39;00m\n\u001b[0;32m-> 1282\u001b[0m \u001b[39mself\u001b[39;49m\u001b[39m.\u001b[39;49m_send_request(method, url, body, headers, encode_chunked)\n",
      "File \u001b[0;32m/Library/Frameworks/Python.framework/Versions/3.10/lib/python3.10/http/client.py:1328\u001b[0m, in \u001b[0;36mHTTPConnection._send_request\u001b[0;34m(self, method, url, body, headers, encode_chunked)\u001b[0m\n\u001b[1;32m   1327\u001b[0m     body \u001b[39m=\u001b[39m _encode(body, \u001b[39m'\u001b[39m\u001b[39mbody\u001b[39m\u001b[39m'\u001b[39m)\n\u001b[0;32m-> 1328\u001b[0m \u001b[39mself\u001b[39;49m\u001b[39m.\u001b[39;49mendheaders(body, encode_chunked\u001b[39m=\u001b[39;49mencode_chunked)\n",
      "File \u001b[0;32m/Library/Frameworks/Python.framework/Versions/3.10/lib/python3.10/http/client.py:1277\u001b[0m, in \u001b[0;36mHTTPConnection.endheaders\u001b[0;34m(self, message_body, encode_chunked)\u001b[0m\n\u001b[1;32m   1276\u001b[0m     \u001b[39mraise\u001b[39;00m CannotSendHeader()\n\u001b[0;32m-> 1277\u001b[0m \u001b[39mself\u001b[39;49m\u001b[39m.\u001b[39;49m_send_output(message_body, encode_chunked\u001b[39m=\u001b[39;49mencode_chunked)\n",
      "File \u001b[0;32m/Library/Frameworks/Python.framework/Versions/3.10/lib/python3.10/http/client.py:1037\u001b[0m, in \u001b[0;36mHTTPConnection._send_output\u001b[0;34m(self, message_body, encode_chunked)\u001b[0m\n\u001b[1;32m   1036\u001b[0m \u001b[39mdel\u001b[39;00m \u001b[39mself\u001b[39m\u001b[39m.\u001b[39m_buffer[:]\n\u001b[0;32m-> 1037\u001b[0m \u001b[39mself\u001b[39;49m\u001b[39m.\u001b[39;49msend(msg)\n\u001b[1;32m   1039\u001b[0m \u001b[39mif\u001b[39;00m message_body \u001b[39mis\u001b[39;00m \u001b[39mnot\u001b[39;00m \u001b[39mNone\u001b[39;00m:\n\u001b[1;32m   1040\u001b[0m \n\u001b[1;32m   1041\u001b[0m     \u001b[39m# create a consistent interface to message_body\u001b[39;00m\n",
      "File \u001b[0;32m/Library/Frameworks/Python.framework/Versions/3.10/lib/python3.10/http/client.py:975\u001b[0m, in \u001b[0;36mHTTPConnection.send\u001b[0;34m(self, data)\u001b[0m\n\u001b[1;32m    974\u001b[0m \u001b[39mif\u001b[39;00m \u001b[39mself\u001b[39m\u001b[39m.\u001b[39mauto_open:\n\u001b[0;32m--> 975\u001b[0m     \u001b[39mself\u001b[39;49m\u001b[39m.\u001b[39;49mconnect()\n\u001b[1;32m    976\u001b[0m \u001b[39melse\u001b[39;00m:\n",
      "File \u001b[0;32m/Library/Frameworks/Python.framework/Versions/3.10/lib/python3.10/http/client.py:1454\u001b[0m, in \u001b[0;36mHTTPSConnection.connect\u001b[0;34m(self)\u001b[0m\n\u001b[1;32m   1452\u001b[0m     server_hostname \u001b[39m=\u001b[39m \u001b[39mself\u001b[39m\u001b[39m.\u001b[39mhost\n\u001b[0;32m-> 1454\u001b[0m \u001b[39mself\u001b[39m\u001b[39m.\u001b[39msock \u001b[39m=\u001b[39m \u001b[39mself\u001b[39;49m\u001b[39m.\u001b[39;49m_context\u001b[39m.\u001b[39;49mwrap_socket(\u001b[39mself\u001b[39;49m\u001b[39m.\u001b[39;49msock,\n\u001b[1;32m   1455\u001b[0m                                       server_hostname\u001b[39m=\u001b[39;49mserver_hostname)\n",
      "File \u001b[0;32m/Library/Frameworks/Python.framework/Versions/3.10/lib/python3.10/ssl.py:513\u001b[0m, in \u001b[0;36mSSLContext.wrap_socket\u001b[0;34m(self, sock, server_side, do_handshake_on_connect, suppress_ragged_eofs, server_hostname, session)\u001b[0m\n\u001b[1;32m    507\u001b[0m \u001b[39mdef\u001b[39;00m \u001b[39mwrap_socket\u001b[39m(\u001b[39mself\u001b[39m, sock, server_side\u001b[39m=\u001b[39m\u001b[39mFalse\u001b[39;00m,\n\u001b[1;32m    508\u001b[0m                 do_handshake_on_connect\u001b[39m=\u001b[39m\u001b[39mTrue\u001b[39;00m,\n\u001b[1;32m    509\u001b[0m                 suppress_ragged_eofs\u001b[39m=\u001b[39m\u001b[39mTrue\u001b[39;00m,\n\u001b[1;32m    510\u001b[0m                 server_hostname\u001b[39m=\u001b[39m\u001b[39mNone\u001b[39;00m, session\u001b[39m=\u001b[39m\u001b[39mNone\u001b[39;00m):\n\u001b[1;32m    511\u001b[0m     \u001b[39m# SSLSocket class handles server_hostname encoding before it calls\u001b[39;00m\n\u001b[1;32m    512\u001b[0m     \u001b[39m# ctx._wrap_socket()\u001b[39;00m\n\u001b[0;32m--> 513\u001b[0m     \u001b[39mreturn\u001b[39;00m \u001b[39mself\u001b[39;49m\u001b[39m.\u001b[39;49msslsocket_class\u001b[39m.\u001b[39;49m_create(\n\u001b[1;32m    514\u001b[0m         sock\u001b[39m=\u001b[39;49msock,\n\u001b[1;32m    515\u001b[0m         server_side\u001b[39m=\u001b[39;49mserver_side,\n\u001b[1;32m    516\u001b[0m         do_handshake_on_connect\u001b[39m=\u001b[39;49mdo_handshake_on_connect,\n\u001b[1;32m    517\u001b[0m         suppress_ragged_eofs\u001b[39m=\u001b[39;49msuppress_ragged_eofs,\n\u001b[1;32m    518\u001b[0m         server_hostname\u001b[39m=\u001b[39;49mserver_hostname,\n\u001b[1;32m    519\u001b[0m         context\u001b[39m=\u001b[39;49m\u001b[39mself\u001b[39;49m,\n\u001b[1;32m    520\u001b[0m         session\u001b[39m=\u001b[39;49msession\n\u001b[1;32m    521\u001b[0m     )\n",
      "File \u001b[0;32m/Library/Frameworks/Python.framework/Versions/3.10/lib/python3.10/ssl.py:1071\u001b[0m, in \u001b[0;36mSSLSocket._create\u001b[0;34m(cls, sock, server_side, do_handshake_on_connect, suppress_ragged_eofs, server_hostname, context, session)\u001b[0m\n\u001b[1;32m   1070\u001b[0m             \u001b[39mraise\u001b[39;00m \u001b[39mValueError\u001b[39;00m(\u001b[39m\"\u001b[39m\u001b[39mdo_handshake_on_connect should not be specified for non-blocking sockets\u001b[39m\u001b[39m\"\u001b[39m)\n\u001b[0;32m-> 1071\u001b[0m         \u001b[39mself\u001b[39;49m\u001b[39m.\u001b[39;49mdo_handshake()\n\u001b[1;32m   1072\u001b[0m \u001b[39mexcept\u001b[39;00m (\u001b[39mOSError\u001b[39;00m, \u001b[39mValueError\u001b[39;00m):\n",
      "File \u001b[0;32m/Library/Frameworks/Python.framework/Versions/3.10/lib/python3.10/ssl.py:1342\u001b[0m, in \u001b[0;36mSSLSocket.do_handshake\u001b[0;34m(self, block)\u001b[0m\n\u001b[1;32m   1341\u001b[0m         \u001b[39mself\u001b[39m\u001b[39m.\u001b[39msettimeout(\u001b[39mNone\u001b[39;00m)\n\u001b[0;32m-> 1342\u001b[0m     \u001b[39mself\u001b[39;49m\u001b[39m.\u001b[39;49m_sslobj\u001b[39m.\u001b[39;49mdo_handshake()\n\u001b[1;32m   1343\u001b[0m \u001b[39mfinally\u001b[39;00m:\n",
      "\u001b[0;31mSSLCertVerificationError\u001b[0m: [SSL: CERTIFICATE_VERIFY_FAILED] certificate verify failed: unable to get local issuer certificate (_ssl.c:997)",
      "\nDuring handling of the above exception, another exception occurred:\n",
      "\u001b[0;31mURLError\u001b[0m                                  Traceback (most recent call last)",
      "Cell \u001b[0;32mIn [1], line 10\u001b[0m\n\u001b[1;32m      7\u001b[0m         local, _ \u001b[39m=\u001b[39m urlretrieve(url, filename)\n\u001b[1;32m      8\u001b[0m         \u001b[39mprint\u001b[39m(\u001b[39m'\u001b[39m\u001b[39mDownloaded \u001b[39m\u001b[39m'\u001b[39m \u001b[39m+\u001b[39m local)\n\u001b[0;32m---> 10\u001b[0m download(\u001b[39m'\u001b[39;49m\u001b[39mhttps://github.com/AllenDowney/DSIRP/raw/main/american-english\u001b[39;49m\u001b[39m'\u001b[39;49m)\n",
      "Cell \u001b[0;32mIn [1], line 7\u001b[0m, in \u001b[0;36mdownload\u001b[0;34m(url)\u001b[0m\n\u001b[1;32m      5\u001b[0m \u001b[39mif\u001b[39;00m \u001b[39mnot\u001b[39;00m exists(filename):\n\u001b[1;32m      6\u001b[0m     \u001b[39mfrom\u001b[39;00m \u001b[39murllib\u001b[39;00m\u001b[39m.\u001b[39;00m\u001b[39mrequest\u001b[39;00m \u001b[39mimport\u001b[39;00m urlretrieve\n\u001b[0;32m----> 7\u001b[0m     local, _ \u001b[39m=\u001b[39m urlretrieve(url, filename)\n\u001b[1;32m      8\u001b[0m     \u001b[39mprint\u001b[39m(\u001b[39m'\u001b[39m\u001b[39mDownloaded \u001b[39m\u001b[39m'\u001b[39m \u001b[39m+\u001b[39m local)\n",
      "File \u001b[0;32m/Library/Frameworks/Python.framework/Versions/3.10/lib/python3.10/urllib/request.py:241\u001b[0m, in \u001b[0;36murlretrieve\u001b[0;34m(url, filename, reporthook, data)\u001b[0m\n\u001b[1;32m    224\u001b[0m \u001b[39m\"\"\"\u001b[39;00m\n\u001b[1;32m    225\u001b[0m \u001b[39mRetrieve a URL into a temporary location on disk.\u001b[39;00m\n\u001b[1;32m    226\u001b[0m \n\u001b[0;32m   (...)\u001b[0m\n\u001b[1;32m    237\u001b[0m \u001b[39mdata file as well as the resulting HTTPMessage object.\u001b[39;00m\n\u001b[1;32m    238\u001b[0m \u001b[39m\"\"\"\u001b[39;00m\n\u001b[1;32m    239\u001b[0m url_type, path \u001b[39m=\u001b[39m _splittype(url)\n\u001b[0;32m--> 241\u001b[0m \u001b[39mwith\u001b[39;00m contextlib\u001b[39m.\u001b[39mclosing(urlopen(url, data)) \u001b[39mas\u001b[39;00m fp:\n\u001b[1;32m    242\u001b[0m     headers \u001b[39m=\u001b[39m fp\u001b[39m.\u001b[39minfo()\n\u001b[1;32m    244\u001b[0m     \u001b[39m# Just return the local path and the \"headers\" for file://\u001b[39;00m\n\u001b[1;32m    245\u001b[0m     \u001b[39m# URLs. No sense in performing a copy unless requested.\u001b[39;00m\n",
      "File \u001b[0;32m/Library/Frameworks/Python.framework/Versions/3.10/lib/python3.10/urllib/request.py:216\u001b[0m, in \u001b[0;36murlopen\u001b[0;34m(url, data, timeout, cafile, capath, cadefault, context)\u001b[0m\n\u001b[1;32m    214\u001b[0m \u001b[39melse\u001b[39;00m:\n\u001b[1;32m    215\u001b[0m     opener \u001b[39m=\u001b[39m _opener\n\u001b[0;32m--> 216\u001b[0m \u001b[39mreturn\u001b[39;00m opener\u001b[39m.\u001b[39;49mopen(url, data, timeout)\n",
      "File \u001b[0;32m/Library/Frameworks/Python.framework/Versions/3.10/lib/python3.10/urllib/request.py:519\u001b[0m, in \u001b[0;36mOpenerDirector.open\u001b[0;34m(self, fullurl, data, timeout)\u001b[0m\n\u001b[1;32m    516\u001b[0m     req \u001b[39m=\u001b[39m meth(req)\n\u001b[1;32m    518\u001b[0m sys\u001b[39m.\u001b[39maudit(\u001b[39m'\u001b[39m\u001b[39murllib.Request\u001b[39m\u001b[39m'\u001b[39m, req\u001b[39m.\u001b[39mfull_url, req\u001b[39m.\u001b[39mdata, req\u001b[39m.\u001b[39mheaders, req\u001b[39m.\u001b[39mget_method())\n\u001b[0;32m--> 519\u001b[0m response \u001b[39m=\u001b[39m \u001b[39mself\u001b[39;49m\u001b[39m.\u001b[39;49m_open(req, data)\n\u001b[1;32m    521\u001b[0m \u001b[39m# post-process response\u001b[39;00m\n\u001b[1;32m    522\u001b[0m meth_name \u001b[39m=\u001b[39m protocol\u001b[39m+\u001b[39m\u001b[39m\"\u001b[39m\u001b[39m_response\u001b[39m\u001b[39m\"\u001b[39m\n",
      "File \u001b[0;32m/Library/Frameworks/Python.framework/Versions/3.10/lib/python3.10/urllib/request.py:536\u001b[0m, in \u001b[0;36mOpenerDirector._open\u001b[0;34m(self, req, data)\u001b[0m\n\u001b[1;32m    533\u001b[0m     \u001b[39mreturn\u001b[39;00m result\n\u001b[1;32m    535\u001b[0m protocol \u001b[39m=\u001b[39m req\u001b[39m.\u001b[39mtype\n\u001b[0;32m--> 536\u001b[0m result \u001b[39m=\u001b[39m \u001b[39mself\u001b[39;49m\u001b[39m.\u001b[39;49m_call_chain(\u001b[39mself\u001b[39;49m\u001b[39m.\u001b[39;49mhandle_open, protocol, protocol \u001b[39m+\u001b[39;49m\n\u001b[1;32m    537\u001b[0m                           \u001b[39m'\u001b[39;49m\u001b[39m_open\u001b[39;49m\u001b[39m'\u001b[39;49m, req)\n\u001b[1;32m    538\u001b[0m \u001b[39mif\u001b[39;00m result:\n\u001b[1;32m    539\u001b[0m     \u001b[39mreturn\u001b[39;00m result\n",
      "File \u001b[0;32m/Library/Frameworks/Python.framework/Versions/3.10/lib/python3.10/urllib/request.py:496\u001b[0m, in \u001b[0;36mOpenerDirector._call_chain\u001b[0;34m(self, chain, kind, meth_name, *args)\u001b[0m\n\u001b[1;32m    494\u001b[0m \u001b[39mfor\u001b[39;00m handler \u001b[39min\u001b[39;00m handlers:\n\u001b[1;32m    495\u001b[0m     func \u001b[39m=\u001b[39m \u001b[39mgetattr\u001b[39m(handler, meth_name)\n\u001b[0;32m--> 496\u001b[0m     result \u001b[39m=\u001b[39m func(\u001b[39m*\u001b[39;49margs)\n\u001b[1;32m    497\u001b[0m     \u001b[39mif\u001b[39;00m result \u001b[39mis\u001b[39;00m \u001b[39mnot\u001b[39;00m \u001b[39mNone\u001b[39;00m:\n\u001b[1;32m    498\u001b[0m         \u001b[39mreturn\u001b[39;00m result\n",
      "File \u001b[0;32m/Library/Frameworks/Python.framework/Versions/3.10/lib/python3.10/urllib/request.py:1391\u001b[0m, in \u001b[0;36mHTTPSHandler.https_open\u001b[0;34m(self, req)\u001b[0m\n\u001b[1;32m   1390\u001b[0m \u001b[39mdef\u001b[39;00m \u001b[39mhttps_open\u001b[39m(\u001b[39mself\u001b[39m, req):\n\u001b[0;32m-> 1391\u001b[0m     \u001b[39mreturn\u001b[39;00m \u001b[39mself\u001b[39;49m\u001b[39m.\u001b[39;49mdo_open(http\u001b[39m.\u001b[39;49mclient\u001b[39m.\u001b[39;49mHTTPSConnection, req,\n\u001b[1;32m   1392\u001b[0m         context\u001b[39m=\u001b[39;49m\u001b[39mself\u001b[39;49m\u001b[39m.\u001b[39;49m_context, check_hostname\u001b[39m=\u001b[39;49m\u001b[39mself\u001b[39;49m\u001b[39m.\u001b[39;49m_check_hostname)\n",
      "File \u001b[0;32m/Library/Frameworks/Python.framework/Versions/3.10/lib/python3.10/urllib/request.py:1351\u001b[0m, in \u001b[0;36mAbstractHTTPHandler.do_open\u001b[0;34m(self, http_class, req, **http_conn_args)\u001b[0m\n\u001b[1;32m   1348\u001b[0m         h\u001b[39m.\u001b[39mrequest(req\u001b[39m.\u001b[39mget_method(), req\u001b[39m.\u001b[39mselector, req\u001b[39m.\u001b[39mdata, headers,\n\u001b[1;32m   1349\u001b[0m                   encode_chunked\u001b[39m=\u001b[39mreq\u001b[39m.\u001b[39mhas_header(\u001b[39m'\u001b[39m\u001b[39mTransfer-encoding\u001b[39m\u001b[39m'\u001b[39m))\n\u001b[1;32m   1350\u001b[0m     \u001b[39mexcept\u001b[39;00m \u001b[39mOSError\u001b[39;00m \u001b[39mas\u001b[39;00m err: \u001b[39m# timeout error\u001b[39;00m\n\u001b[0;32m-> 1351\u001b[0m         \u001b[39mraise\u001b[39;00m URLError(err)\n\u001b[1;32m   1352\u001b[0m     r \u001b[39m=\u001b[39m h\u001b[39m.\u001b[39mgetresponse()\n\u001b[1;32m   1353\u001b[0m \u001b[39mexcept\u001b[39;00m:\n",
      "\u001b[0;31mURLError\u001b[0m: <urlopen error [SSL: CERTIFICATE_VERIFY_FAILED] certificate verify failed: unable to get local issuer certificate (_ssl.c:997)>"
     ]
    }
   ],
   "source": [
    "from os.path import basename, exists\n",
    "\n",
    "def download(url):\n",
    "    filename = basename(url)\n",
    "    if not exists(filename):\n",
    "        from urllib.request import urlretrieve\n",
    "        local, _ = urlretrieve(url, filename)\n",
    "        print('Downloaded ' + local)\n",
    "    \n",
    "download('https://github.com/AllenDowney/DSIRP/raw/main/american-english')"
   ]
  },
  {
   "cell_type": "markdown",
   "metadata": {},
   "source": [
    "## Question 1\n",
    "\n",
    "The following is the implementation of a binary search tree (BST) from `search.ipynb`."
   ]
  },
  {
   "cell_type": "code",
   "execution_count": 2,
   "metadata": {},
   "outputs": [],
   "source": [
    "class Node:\n",
    "    def __init__(self, data, left=None, right=None):\n",
    "        self.data = data\n",
    "        self.left = left\n",
    "        self.right = right\n",
    "        \n",
    "    def __repr__(self):\n",
    "        return f'Node({self.data}, {repr(self.left)}, {repr(self.right)})'"
   ]
  },
  {
   "cell_type": "code",
   "execution_count": 3,
   "metadata": {},
   "outputs": [],
   "source": [
    "class BSTree:\n",
    "    def __init__(self, root=None):\n",
    "        self.root = root\n",
    "        \n",
    "    def __repr__(self):\n",
    "        return f'BSTree({repr(self.root)})'"
   ]
  },
  {
   "cell_type": "code",
   "execution_count": 4,
   "metadata": {},
   "outputs": [],
   "source": [
    "def insert(tree, data):\n",
    "    tree.root = insert_rec(tree.root, data)\n",
    "    \n",
    "def insert_rec(node, data):\n",
    "    if node is None:\n",
    "        return Node(data)\n",
    "    \n",
    "    if data < node.data:\n",
    "        node.left = insert_rec(node.left, data)\n",
    "    else:\n",
    "        node.right = insert_rec(node.right, data)\n",
    "        \n",
    "    return node"
   ]
  },
  {
   "cell_type": "markdown",
   "metadata": {},
   "source": [
    "The following cell reads words from a file and adds them to a BST.\n",
    "But if you run it, you'll get a `RecursionError`."
   ]
  },
  {
   "cell_type": "code",
   "execution_count": 5,
   "metadata": {},
   "outputs": [
    {
     "ename": "RecursionError",
     "evalue": "maximum recursion depth exceeded",
     "output_type": "error",
     "traceback": [
      "\u001b[0;31m---------------------------------------------------------------------------\u001b[0m",
      "\u001b[0;31mRecursionError\u001b[0m                            Traceback (most recent call last)",
      "Cell \u001b[0;32mIn [5], line 5\u001b[0m\n\u001b[1;32m      3\u001b[0m \u001b[39mfor\u001b[39;00m line \u001b[39min\u001b[39;00m \u001b[39mopen\u001b[39m(filename):\n\u001b[1;32m      4\u001b[0m     \u001b[39mfor\u001b[39;00m word \u001b[39min\u001b[39;00m line\u001b[39m.\u001b[39msplit():\n\u001b[0;32m----> 5\u001b[0m         insert(tree, word\u001b[39m.\u001b[39;49mstrip())\n",
      "Cell \u001b[0;32mIn [4], line 2\u001b[0m, in \u001b[0;36minsert\u001b[0;34m(tree, data)\u001b[0m\n\u001b[1;32m      1\u001b[0m \u001b[39mdef\u001b[39;00m \u001b[39minsert\u001b[39m(tree, data):\n\u001b[0;32m----> 2\u001b[0m     tree\u001b[39m.\u001b[39mroot \u001b[39m=\u001b[39m insert_rec(tree\u001b[39m.\u001b[39;49mroot, data)\n",
      "Cell \u001b[0;32mIn [4], line 11\u001b[0m, in \u001b[0;36minsert_rec\u001b[0;34m(node, data)\u001b[0m\n\u001b[1;32m      9\u001b[0m     node\u001b[39m.\u001b[39mleft \u001b[39m=\u001b[39m insert_rec(node\u001b[39m.\u001b[39mleft, data)\n\u001b[1;32m     10\u001b[0m \u001b[39melse\u001b[39;00m:\n\u001b[0;32m---> 11\u001b[0m     node\u001b[39m.\u001b[39mright \u001b[39m=\u001b[39m insert_rec(node\u001b[39m.\u001b[39;49mright, data)\n\u001b[1;32m     13\u001b[0m \u001b[39mreturn\u001b[39;00m node\n",
      "Cell \u001b[0;32mIn [4], line 11\u001b[0m, in \u001b[0;36minsert_rec\u001b[0;34m(node, data)\u001b[0m\n\u001b[1;32m      9\u001b[0m     node\u001b[39m.\u001b[39mleft \u001b[39m=\u001b[39m insert_rec(node\u001b[39m.\u001b[39mleft, data)\n\u001b[1;32m     10\u001b[0m \u001b[39melse\u001b[39;00m:\n\u001b[0;32m---> 11\u001b[0m     node\u001b[39m.\u001b[39mright \u001b[39m=\u001b[39m insert_rec(node\u001b[39m.\u001b[39;49mright, data)\n\u001b[1;32m     13\u001b[0m \u001b[39mreturn\u001b[39;00m node\n",
      "    \u001b[0;31m[... skipping similar frames: insert_rec at line 11 (2967 times)]\u001b[0m\n",
      "Cell \u001b[0;32mIn [4], line 11\u001b[0m, in \u001b[0;36minsert_rec\u001b[0;34m(node, data)\u001b[0m\n\u001b[1;32m      9\u001b[0m     node\u001b[39m.\u001b[39mleft \u001b[39m=\u001b[39m insert_rec(node\u001b[39m.\u001b[39mleft, data)\n\u001b[1;32m     10\u001b[0m \u001b[39melse\u001b[39;00m:\n\u001b[0;32m---> 11\u001b[0m     node\u001b[39m.\u001b[39mright \u001b[39m=\u001b[39m insert_rec(node\u001b[39m.\u001b[39;49mright, data)\n\u001b[1;32m     13\u001b[0m \u001b[39mreturn\u001b[39;00m node\n",
      "Cell \u001b[0;32mIn [4], line 6\u001b[0m, in \u001b[0;36minsert_rec\u001b[0;34m(node, data)\u001b[0m\n\u001b[1;32m      4\u001b[0m \u001b[39mdef\u001b[39;00m \u001b[39minsert_rec\u001b[39m(node, data):\n\u001b[1;32m      5\u001b[0m     \u001b[39mif\u001b[39;00m node \u001b[39mis\u001b[39;00m \u001b[39mNone\u001b[39;00m:\n\u001b[0;32m----> 6\u001b[0m         \u001b[39mreturn\u001b[39;00m Node(data)\n\u001b[1;32m      8\u001b[0m     \u001b[39mif\u001b[39;00m data \u001b[39m<\u001b[39m node\u001b[39m.\u001b[39mdata:\n\u001b[1;32m      9\u001b[0m         node\u001b[39m.\u001b[39mleft \u001b[39m=\u001b[39m insert_rec(node\u001b[39m.\u001b[39mleft, data)\n",
      "\u001b[0;31mRecursionError\u001b[0m: maximum recursion depth exceeded"
     ]
    }
   ],
   "source": [
    "filename = '../american-english'\n",
    "tree = BSTree()\n",
    "for line in open(filename):\n",
    "    for word in line.split():\n",
    "        insert(tree, word.strip())"
   ]
  },
  {
   "cell_type": "markdown",
   "metadata": {},
   "source": [
    "However, if we put the words into a list, shuffle the list, and then put the shuffled words into the BST, it works."
   ]
  },
  {
   "cell_type": "code",
   "execution_count": 6,
   "metadata": {},
   "outputs": [],
   "source": [
    "word_list = []\n",
    "for line in open(filename):\n",
    "    for word in line.split():\n",
    "        word_list.append(word.strip())"
   ]
  },
  {
   "cell_type": "code",
   "execution_count": 7,
   "metadata": {},
   "outputs": [],
   "source": [
    "from random import shuffle\n",
    "\n",
    "shuffle(word_list)"
   ]
  },
  {
   "cell_type": "code",
   "execution_count": 8,
   "metadata": {},
   "outputs": [],
   "source": [
    "tree = BSTree()\n",
    "for word in word_list:\n",
    "    insert(tree, word.strip())"
   ]
  },
  {
   "cell_type": "markdown",
   "metadata": {},
   "source": [
    "Write a few clear, complete sentences to answer the following two questions:\n",
    "\n",
    "1) Why did we get a `RecursionError`, and why does shuffling the words fix the problem?"
   ]
  },
  {
   "attachments": {},
   "cell_type": "markdown",
   "metadata": {},
   "source": [
    "We got a RecursionError because american-english is already sorted. Because of this, every node in the BSTree will only have one branch, meaning that every time we want to add a new word, we have to recurse through every single word that came before. By shuffling the list, it becomes possible for the nodes to have two branches since it is random whether or not each word should be sorted before or after the previous one"
   ]
  },
  {
   "cell_type": "markdown",
   "metadata": {},
   "source": [
    "2) What is the order of growth for the whole process; that is, reading the words into a list, shuffling the list, and then putting the shuffled words into a binary search tree. You can assume that `shuffle` is linear."
   ]
  },
  {
   "attachments": {},
   "cell_type": "markdown",
   "metadata": {},
   "source": [
    "The worst case scenario for this program occurs if shuffle returns the list in sorted order, in which case the order of growth would be O(n^2). The best case scenario is that the list is shuffled in such a way that every node in the tree will end up with 2 branches. In this case, I've calculated the order of growth should be O(n*log(n))"
   ]
  },
  {
   "cell_type": "markdown",
   "metadata": {},
   "source": [
    "## Question 2\n",
    "\n",
    "As we discussed in class, there are three versions of the search problem:\n",
    "\n",
    "1) Checking whether an element is in a collection; for example, this is what the `in` operator does.\n",
    "\n",
    "2) Finding the index of an element in an ordered collection; for example, this is what the string method `find` does.\n",
    "\n",
    "3) In a collection of key-value pairs, finding the value that corresponds to a given key; this is what the dictionary method `get` does.\n",
    "\n",
    "In `search.ipynb`, we used a BST to solve the first problem. In this exercise, you will modify it to solve the third problem.\n",
    "\n",
    "Here's the code again (although notice that the names of the objects are `MapNode` and `BSTMap`)."
   ]
  },
  {
   "cell_type": "code",
   "execution_count": 1,
   "metadata": {},
   "outputs": [],
   "source": [
    "class MapNode:\n",
    "    def __init__(self, data, left=None, right=None):\n",
    "        self.data = data\n",
    "        self.left = left\n",
    "        self.right = right\n",
    "        \n",
    "    def __repr__(self):\n",
    "        return f'Node({self.data}, {repr(self.left)}, {repr(self.right)})'"
   ]
  },
  {
   "cell_type": "code",
   "execution_count": 2,
   "metadata": {},
   "outputs": [],
   "source": [
    "class BSTMap:\n",
    "    def __init__(self, root=None):\n",
    "        self.root = root\n",
    "        \n",
    "    def __repr__(self):\n",
    "        return f'BSTMap({repr(self.root)})'"
   ]
  },
  {
   "cell_type": "code",
   "execution_count": 3,
   "metadata": {},
   "outputs": [],
   "source": [
    "def insert_map(tree, data):\n",
    "    tree.root = insert_map_rec(tree.root, data)\n",
    "    \n",
    "def insert_map_rec(node, data):\n",
    "    if node is None:\n",
    "        return MapNode(data)\n",
    "    \n",
    "    if data < node.data:\n",
    "        node.left = insert_map_rec(node.left, data)\n",
    "    else:\n",
    "        node.right = insert_map_rec(node.right, data)\n",
    "        \n",
    "    return node"
   ]
  },
  {
   "cell_type": "code",
   "execution_count": 62,
   "metadata": {},
   "outputs": [],
   "source": [
    "def insert_map(tree, data):\n",
    "    tree.root = insert_map_rec(tree.root, data)\n",
    "    \n",
    "def insert_map_rec(node, data):\n",
    "    if node is None:\n",
    "        return MapNode(data)\n",
    "    \n",
    "    if list(data.keys())[0] < list(node.data.keys())[0]:\n",
    "        node.left = insert_map_rec(node.left, data)\n",
    "    else:\n",
    "        node.right = insert_map_rec(node.right, data)\n",
    "        \n",
    "    return node"
   ]
  },
  {
   "cell_type": "code",
   "execution_count": 63,
   "metadata": {},
   "outputs": [
    {
     "name": "stdout",
     "output_type": "stream",
     "text": [
      "{612: 168, 961: 464, 913: 186, 160: 787, 467: 3, 586: 50, 812: 640, 737: 788, 281: 251, 373: 875, 184: 247, 576: 920, 826: 520, 907: 283, 676: 546, 688: 947, 262: 641, 53: 611, 992: 207, 348: 748, 939: 697, 395: 373, 704: 594, 478: 188, 426: 227, 728: 973, 308: 421, 695: 333, 20: 372, 461: 473, 945: 770, 988: 263, 7: 452, 694: 877, 858: 754, 439: 707, 828: 145, 754: 915, 854: 515, 924: 501, 48: 248, 749: 566, 975: 248, 820: 182, 60: 814, 203: 721, 596: 190, 356: 688, 8: 936, 943: 782, 581: 859, 208: 31, 706: 780, 729: 204, 5: 155, 432: 794, 868: 413, 260: 866, 339: 832, 460: 826, 790: 575, 476: 366, 423: 576, 318: 416, 753: 643, 717: 261, 759: 277, 414: 404, 269: 685, 316: 552, 874: 242, 180: 418, 929: 340, 58: 40, 516: 974, 529: 802, 370: 378, 741: 138, 485: 758, 620: 551, 209: 658, 707: 561, 201: 528, 117: 980, 595: 137, 401: 388, 434: 618, 799: 92, 67: 425, 616: 640, 766: 180, 535: 57, 630: 821, 967: 678, 131: 890, 570: 570, 422: 883, 456: 692, 866: 185, 211: 430}\n"
     ]
    }
   ],
   "source": [
    "from random import randint\n",
    "strg={}\n",
    "counter=randint(0,1000)\n",
    "for i in range(100):\n",
    "    while counter in strg.keys():\n",
    "        counter=randint(0,1000)\n",
    "    strg[counter]=randint(0,1000)\n",
    "print(strg)\n"
   ]
  },
  {
   "cell_type": "code",
   "execution_count": 64,
   "metadata": {},
   "outputs": [
    {
     "name": "stdout",
     "output_type": "stream",
     "text": [
      "BSTMap(Node({612: 168}, Node({160: 787}, Node({53: 611}, Node({20: 372}, Node({7: 452}, Node({5: 155}, None, None), Node({8: 936}, None, None)), Node({48: 248}, None, None)), Node({60: 814}, Node({58: 40}, None, None), Node({117: 980}, Node({67: 425}, None, None), Node({131: 890}, None, None)))), Node({467: 3}, Node({281: 251}, Node({184: 247}, Node({180: 418}, None, None), Node({262: 641}, Node({203: 721}, Node({201: 528}, None, None), Node({208: 31}, None, Node({260: 866}, Node({209: 658}, None, Node({211: 430}, None, None)), None))), Node({269: 685}, None, None))), Node({373: 875}, Node({348: 748}, Node({308: 421}, None, Node({339: 832}, Node({318: 416}, Node({316: 552}, None, None), None), None)), Node({356: 688}, None, Node({370: 378}, None, None))), Node({395: 373}, None, Node({426: 227}, Node({423: 576}, Node({414: 404}, Node({401: 388}, None, None), Node({422: 883}, None, None)), None), Node({461: 473}, Node({439: 707}, Node({432: 794}, None, Node({434: 618}, None, None)), Node({460: 826}, Node({456: 692}, None, None), None)), None))))), Node({586: 50}, Node({576: 920}, Node({478: 188}, Node({476: 366}, None, None), Node({516: 974}, Node({485: 758}, None, None), Node({529: 802}, None, Node({535: 57}, None, Node({570: 570}, None, None))))), Node({581: 859}, None, None)), Node({596: 190}, Node({595: 137}, None, None), None)))), Node({961: 464}, Node({913: 186}, Node({812: 640}, Node({737: 788}, Node({676: 546}, Node({620: 551}, Node({616: 640}, None, None), Node({630: 821}, None, None)), Node({688: 947}, None, Node({704: 594}, Node({695: 333}, Node({694: 877}, None, None), None), Node({728: 973}, Node({706: 780}, None, Node({717: 261}, Node({707: 561}, None, None), None)), Node({729: 204}, None, None))))), Node({754: 915}, Node({749: 566}, Node({741: 138}, None, None), Node({753: 643}, None, None)), Node({790: 575}, Node({759: 277}, None, Node({766: 180}, None, None)), Node({799: 92}, None, None)))), Node({826: 520}, Node({820: 182}, None, None), Node({907: 283}, Node({858: 754}, Node({828: 145}, None, Node({854: 515}, None, None)), Node({868: 413}, Node({866: 185}, None, None), Node({874: 242}, None, None))), None))), Node({939: 697}, Node({924: 501}, None, Node({929: 340}, None, None)), Node({945: 770}, Node({943: 782}, None, None), None))), Node({992: 207}, Node({988: 263}, Node({975: 248}, Node({967: 678}, None, None), None), None), None))))\n"
     ]
    }
   ],
   "source": [
    "my_tree=BSTMap()\n",
    "for i, j in strg.items():\n",
    "    insert_map(my_tree,{i:j})\n",
    "\n",
    "print(my_tree)\n",
    "    "
   ]
  },
  {
   "cell_type": "code",
   "execution_count": 68,
   "metadata": {},
   "outputs": [
    {
     "name": "stdout",
     "output_type": "stream",
     "text": [
      "770\n"
     ]
    }
   ],
   "source": [
    "def search_map(tree,target):\n",
    "    return search_tree_rec(tree.root,target)\n",
    "\n",
    "def search_tree_rec(node, target):\n",
    "    if node is None:\n",
    "        return 'not in tree'\n",
    "    if target < list(node.data.keys())[0]:\n",
    "        return search_tree_rec(node.left, target)\n",
    "    elif target > list(node.data.keys())[0]:\n",
    "        return search_tree_rec(node.right, target)\n",
    "    return list(node.data.values())[0]\n",
    "\n",
    "print(search_map(my_tree,945))"
   ]
  },
  {
   "cell_type": "markdown",
   "metadata": {},
   "source": [
    "Modify this code so that it stores keys and values, rather than just elements of a collection.\n",
    "Then write a function called `get` that takes a `BSTMap` and a key:\n",
    "\n",
    "* If the key is in the map, it should return the corresponding value;\n",
    "\n",
    "* Otherwise it should raise a `KeyError` with an appropriate message.\n",
    "\n",
    "You can use the following code to test your implementation."
   ]
  },
  {
   "cell_type": "code",
   "execution_count": 13,
   "metadata": {},
   "outputs": [],
   "source": [
    "tree_map = BSTMap()\n",
    "\n",
    "keys = 'uniqueltrs'\n",
    "values = range(len(keys))\n",
    "for key, value in zip(keys, values):\n",
    "    print(key, value)\n",
    "    insert_map(tree_map, key, value)\n",
    "\n",
    "tree_map"
   ]
  },
  {
   "cell_type": "code",
   "execution_count": 14,
   "metadata": {},
   "outputs": [],
   "source": [
    "for key in keys:\n",
    "    print(key, get(tree_map, key))"
   ]
  },
  {
   "cell_type": "markdown",
   "metadata": {},
   "source": [
    "The following should raise a `KeyError`."
   ]
  },
  {
   "cell_type": "code",
   "execution_count": null,
   "metadata": {},
   "outputs": [],
   "source": [
    "get(tree_map, 'b')"
   ]
  },
  {
   "cell_type": "markdown",
   "metadata": {},
   "source": [
    "## Alternative solution"
   ]
  },
  {
   "cell_type": "code",
   "execution_count": 20,
   "metadata": {},
   "outputs": [],
   "source": []
  },
  {
   "cell_type": "code",
   "execution_count": 21,
   "metadata": {},
   "outputs": [],
   "source": []
  },
  {
   "cell_type": "code",
   "execution_count": 23,
   "metadata": {},
   "outputs": [],
   "source": []
  },
  {
   "cell_type": "code",
   "execution_count": 29,
   "metadata": {},
   "outputs": [],
   "source": []
  },
  {
   "cell_type": "markdown",
   "metadata": {},
   "source": [
    "Modify this code so that it stores keys and values, rather than just elements of a collection.\n",
    "Then write a function called `get` that takes a `BSTMap` and a key:\n",
    "\n",
    "* If the key is in the map, it should return the corresponding value;\n",
    "\n",
    "* Otherwise it should raise a `KeyError` with an appropriate message.\n",
    "\n",
    "You can use the following code to test your implementation."
   ]
  },
  {
   "cell_type": "code",
   "execution_count": 30,
   "metadata": {},
   "outputs": [],
   "source": [
    "tree_map = BSTMap()\n",
    "\n",
    "keys = 'uniqueltrs'\n",
    "values = range(len(keys))\n",
    "for key, value in zip(keys, values):\n",
    "    print(key, value)\n",
    "    insert_map(tree_map, key, value)\n",
    "\n",
    "tree_map"
   ]
  },
  {
   "cell_type": "code",
   "execution_count": 31,
   "metadata": {},
   "outputs": [],
   "source": [
    "for key in keys:\n",
    "    print(key, get(tree_map, key))"
   ]
  },
  {
   "cell_type": "code",
   "execution_count": null,
   "metadata": {},
   "outputs": [],
   "source": []
  }
 ],
 "metadata": {
  "kernelspec": {
   "display_name": "Python 3",
   "language": "python",
   "name": "python3"
  },
  "language_info": {
   "codemirror_mode": {
    "name": "ipython",
    "version": 3
   },
   "file_extension": ".py",
   "mimetype": "text/x-python",
   "name": "python",
   "nbconvert_exporter": "python",
   "pygments_lexer": "ipython3",
   "version": "3.10.5"
  },
  "vscode": {
   "interpreter": {
    "hash": "aee8b7b246df8f9039afb4144a1f6fd8d2ca17a180786b69acc140d282b71a49"
   }
  }
 },
 "nbformat": 4,
 "nbformat_minor": 1
}
